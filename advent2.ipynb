{
 "cells": [
  {
   "cell_type": "markdown",
   "metadata": {},
   "source": [
    "[Day 2](https://adventofcode.com/2021/day/2)"
   ]
  },
  {
   "cell_type": "markdown",
   "metadata": {},
   "source": [
    "Read the input"
   ]
  },
  {
   "cell_type": "code",
   "execution_count": 7,
   "metadata": {},
   "outputs": [],
   "source": [
    "with open('input_day2.txt', 'r', encoding = 'utf-8') as file:\n",
    "    directions = []\n",
    "    for line in file.readlines():\n",
    "        direction = line.strip().split()\n",
    "        directions.append((direction[0],int(direction[1])))"
   ]
  },
  {
   "cell_type": "markdown",
   "metadata": {},
   "source": [
    "Classify movements into horizontal and vertical"
   ]
  },
  {
   "cell_type": "code",
   "execution_count": 9,
   "metadata": {},
   "outputs": [],
   "source": [
    "# horizontal movements\n",
    "x_movements = [movement for movement in directions\n",
    "                    if movement[0] == 'forward']\n",
    "\n",
    "# vertical movements\n",
    "y_movements = [movement for movement in directions\n",
    "               if movement[0] in ['up', 'down']]"
   ]
  },
  {
   "cell_type": "markdown",
   "metadata": {},
   "source": [
    "Count the both total horizontal and vertical displacements"
   ]
  },
  {
   "cell_type": "code",
   "execution_count": 14,
   "metadata": {},
   "outputs": [],
   "source": [
    "aim = 0\n",
    "x_advance = 0\n",
    "for move in x_movements:\n",
    "    x_advance += move[1]\n",
    "    aim *= move[1]\n",
    "\n",
    "depth = 0\n",
    "for move in y_movements:\n",
    "    if move[0] == 'up':\n",
    "        depth -= move[1]\n",
    "        aim += move[1]\n",
    "    elif move[0] == 'down':\n",
    "        depth += move[1]\n",
    "        aim -+ = move[1]"
   ]
  },
  {
   "cell_type": "markdown",
   "metadata": {},
   "source": [
    "Results:"
   ]
  },
  {
   "cell_type": "code",
   "execution_count": 15,
   "metadata": {},
   "outputs": [
    {
     "name": "stdout",
     "output_type": "stream",
     "text": [
      "The total horizontal displacement has been: 1965\n",
      "The total vertical displacement has been: 1182\n",
      "The product of both amounts is 2322630\n"
     ]
    }
   ],
   "source": [
    "print(f'The total horizontal displacement has been: {x_advance}')\n",
    "print(f'The total vertical displacement has been: {depth}')\n",
    "print(f'The product of both amounts is {x_advance * depth}')"
   ]
  },
  {
   "cell_type": "markdown",
   "metadata": {},
   "source": [
    "Second part"
   ]
  },
  {
   "cell_type": "markdown",
   "metadata": {},
   "source": [
    "\n",
    "- down X increases your aim by X units.  \n",
    "- up X decreases your aim by X units.  \n",
    "- forward X does two things:  \n",
    "    - It increases your horizontal position by X units.\n",
    "    - It increases your depth by your aim multiplied by X.\n",
    "\n",
    "Again note that since you're on a submarine, down and up do the opposite of what you might expect: \"down\" means aiming in the positive direction.\n",
    "\n",
    "Now, the above example does something different:\n",
    "\n",
    "forward 5 adds 5 to your horizontal position, a total of 5. Because your aim is 0, your depth does not change.  \n",
    "down 5 adds 5 to your aim, resulting in a value of 5.  \n",
    "forward 8 adds 8 to your horizontal position, a total of 13. Because your aim is 5, your depth increases by `8*5=40`.  \n",
    "up 3 decreases your aim by 3, resulting in a value of 2.  \n",
    "down 8 adds 8 to your aim, resulting in a value of 10.  \n",
    "forward 2 adds 2 to your horizontal position, a total of 15. Because your aim is 10, your depth increases by `2*10=20` to a total of 60.  \n",
    "\n",
    "After following these new instructions, you would have a horizontal position of 15 and a depth of 60. (Multiplying these produces 900.)"
   ]
  },
  {
   "cell_type": "code",
   "execution_count": 16,
   "metadata": {},
   "outputs": [],
   "source": [
    "movements = directions\n",
    "aim = 0\n",
    "x_pos = 0\n",
    "y_pos = 0\n",
    "for move in movements:\n",
    "    direction = move[0]\n",
    "    amount = move[1]\n",
    "    if direction == 'forward':\n",
    "        x_pos += amount\n",
    "        y_pos += aim * amount\n",
    "    elif direction == 'up':\n",
    "        aim -= amount\n",
    "    elif direction == 'down':\n",
    "        aim += amount"
   ]
  },
  {
   "cell_type": "code",
   "execution_count": 17,
   "metadata": {},
   "outputs": [
    {
     "name": "stdout",
     "output_type": "stream",
     "text": [
      "The total horizontal displacement has been: 1965\n",
      "The total vertical displacement has been: 1071386\n",
      "The product of both amounts is 2105273490\n"
     ]
    }
   ],
   "source": [
    "print(f'The total horizontal displacement has been: {x_pos}')\n",
    "print(f'The total vertical displacement has been: {y_pos}')\n",
    "print(f'The product of both amounts is {x_pos * y_pos}')"
   ]
  }
 ],
 "metadata": {
  "interpreter": {
   "hash": "e7370f93d1d0cde622a1f8e1c04877d8463912d04d973331ad4851f04de6915a"
  },
  "kernelspec": {
   "display_name": "Python 3.10.1 64-bit",
   "language": "python",
   "name": "python3"
  },
  "language_info": {
   "codemirror_mode": {
    "name": "ipython",
    "version": 3
   },
   "file_extension": ".py",
   "mimetype": "text/x-python",
   "name": "python",
   "nbconvert_exporter": "python",
   "pygments_lexer": "ipython3",
   "version": "3.10.1"
  },
  "orig_nbformat": 4
 },
 "nbformat": 4,
 "nbformat_minor": 2
}
