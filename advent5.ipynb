{
 "cells": [
  {
   "cell_type": "code",
   "execution_count": 17,
   "metadata": {},
   "outputs": [
    {
     "name": "stdout",
     "output_type": "stream",
     "text": [
      "[(0, 9), (5, 9)]\n",
      "[(8, 0), (0, 8)]\n",
      "[(9, 4), (3, 4)]\n",
      "[(2, 2), (2, 1)]\n",
      "[(7, 0), (7, 4)]\n",
      "[(6, 4), (2, 0)]\n",
      "[(0, 9), (2, 9)]\n",
      "[(3, 4), (1, 4)]\n",
      "[(0, 0), (8, 8)]\n",
      "[(5, 5), (8, 2)]\n"
     ]
    }
   ],
   "source": [
    "with open('input_day5.txt', 'r') as f:\n",
    "    coords = []\n",
    "    for line in f.readlines():\n",
    "        line = line.replace('->', ',').strip().split(',')\n",
    "        line = [( int(line[0]), int(line[1]) ),\n",
    "                ( int(line[2]), int(line[3]) )\n",
    "               ]\n",
    "        coords.append(line)\n",
    "        print(line)"
   ]
  },
  {
   "cell_type": "code",
   "execution_count": 25,
   "metadata": {},
   "outputs": [
    {
     "name": "stdout",
     "output_type": "stream",
     "text": [
      "Horizontal lines:\n",
      "[[(0, 9), (5, 9)], [(9, 4), (3, 4)], [(0, 9), (2, 9)], [(3, 4), (1, 4)]]\n",
      "Vertical lines:\n",
      "[[(2, 2), (2, 1)], [(7, 0), (7, 4)]]\n"
     ]
    }
   ],
   "source": [
    "horiz_lines = []\n",
    "vert_lines = []\n",
    "\n",
    "for line in coords:\n",
    "    if line[0][1] == line[1][1]:\n",
    "        horiz_lines.append(line)\n",
    "    elif line[0][0] == line[1][0]:\n",
    "        vert_lines.append(line)\n",
    "print('Horizontal lines:')\n",
    "print(horiz_lines)\n",
    "print('Vertical lines:')\n",
    "print(vert_lines)\n"
   ]
  },
  {
   "cell_type": "markdown",
   "metadata": {},
   "source": [
    "Sort the points in each line, from left to right, from down to up"
   ]
  },
  {
   "cell_type": "code",
   "execution_count": 33,
   "metadata": {},
   "outputs": [],
   "source": [
    "sorted_h_lines = []\n",
    "\n",
    "# define start and end point within each line\n",
    "for line in horiz_lines:\n",
    "    line = sorted(line, key = lambda x: x[0])\n",
    "    sorted_h_lines.append(line)\n",
    "\n",
    "sorted_h_lines = sorted(sorted_h_lines, key = lambda x: x[0][1])\n",
    "\n",
    "sorted_v_lines = []\n",
    "for line in vert_lines:\n",
    "    line = sorted(line, key = lambda x: x[1])\n",
    "    sorted_v_lines.append(line)\n",
    "\n",
    "sorted_v_lines = sorted(sorted_v_lines, key = lambda x: x[0][0])"
   ]
  },
  {
   "cell_type": "markdown",
   "metadata": {},
   "source": [
    "Print the sorted lines in a appropiate way:"
   ]
  },
  {
   "cell_type": "code",
   "execution_count": 34,
   "metadata": {},
   "outputs": [
    {
     "name": "stdout",
     "output_type": "stream",
     "text": [
      "Horizontal lines:\n",
      "(3, 4) --> (9, 4)\n",
      "(1, 4) --> (3, 4)\n",
      "(0, 9) --> (5, 9)\n",
      "(0, 9) --> (2, 9)\n",
      "Vertical lines:\n",
      "(2, 1) --> (2, 2)\n",
      "(7, 0) --> (7, 4)\n"
     ]
    }
   ],
   "source": [
    "print('Horizontal lines:')\n",
    "for h_line in sorted_h_lines:\n",
    "    print(f'{h_line[0]} --> {h_line[1]}')\n",
    "print('Vertical lines:')\n",
    "for v_line in sorted_v_lines:\n",
    "    print(f'{v_line[0]} --> {v_line[1]}')"
   ]
  },
  {
   "cell_type": "code",
   "execution_count": 36,
   "metadata": {},
   "outputs": [
    {
     "name": "stdout",
     "output_type": "stream",
     "text": [
      "[(3, 4), (4, 4), (5, 4), (6, 4), (7, 4), (8, 4), (9, 4), (1, 4), (2, 4), (3, 4), (0, 9), (1, 9), (2, 9), (3, 9), (4, 9), (5, 9), (0, 9), (1, 9), (2, 9), (0, 9), (0, 9)]\n"
     ]
    }
   ],
   "source": [
    "# _2dplot dictionary: {point: times point is crossed}\n",
    "_2dplot = {}\n",
    "plot =[]\n",
    "# adding horizontal points to the 2D plot\n",
    "for h_line in sorted_h_lines:\n",
    "    y_coord = h_line[0][1]\n",
    "    x1 = h_line[0][0] # start point\n",
    "    x2 = h_line[1][0] # finish point\n",
    "    # create all points between start and finish\n",
    "    for x_coord in range(x1,x2+1):\n",
    "        point = (x_coord, y_coord)\n",
    "        if point in _2dplot.keys():\n",
    "            _2dplot[point] += 1\n",
    "        else:\n",
    "            _2dplot[point] = 1\n",
    "        plot.append(point)\n",
    "# adding horizontal points to the 2D plot\n",
    "for v_line in sorted_v_lines:\n",
    "    x_coord = h_line[0][0]\n",
    "    y1 = h_line[0][1] # start point\n",
    "    y2 = h_line[1][1] # finish point\n",
    "    # create all points between start and finish\n",
    "    for y_coord in range(y1,y2+1):\n",
    "        point = (x_coord, y_coord)\n",
    "        if point in _2dplot.keys():\n",
    "            _2dplot[point] += 1\n",
    "        else:\n",
    "            _2dplot[point] = 1\n",
    "        plot.append(point)"
   ]
  },
  {
   "cell_type": "code",
   "execution_count": 55,
   "metadata": {},
   "outputs": [],
   "source": [
    "import numpy as np\n",
    "unique_points = set(plot)\n",
    "x_coords = [i[0] for i in unique_points]\n",
    "y_coords = [i[1] for i in unique_points]\n",
    "min_x, min_y = min(x_coords), min(y_coords)\n",
    "max_x, max_y = max(x_coords), max(y_coords)\n",
    "width = max_x + 1\n",
    "height = max_y +1 \n",
    "map = np.zeros((width, height))"
   ]
  },
  {
   "cell_type": "code",
   "execution_count": 52,
   "metadata": {},
   "outputs": [
    {
     "name": "stdout",
     "output_type": "stream",
     "text": [
      "0 9\n",
      "4 9\n"
     ]
    }
   ],
   "source": [
    "print(min_x, max_x)\n",
    "print(min_y, max_y)\n"
   ]
  },
  {
   "cell_type": "code",
   "execution_count": 59,
   "metadata": {},
   "outputs": [
    {
     "name": "stdout",
     "output_type": "stream",
     "text": [
      "[[0. 0. 0. 0. 0. 0. 0. 0. 0. 4.]\n",
      " [0. 0. 0. 0. 1. 0. 0. 0. 0. 2.]\n",
      " [0. 0. 0. 0. 1. 0. 0. 0. 0. 2.]\n",
      " [0. 0. 0. 0. 2. 0. 0. 0. 0. 1.]\n",
      " [0. 0. 0. 0. 1. 0. 0. 0. 0. 1.]\n",
      " [0. 0. 0. 0. 1. 0. 0. 0. 0. 1.]\n",
      " [0. 0. 0. 0. 1. 0. 0. 0. 0. 0.]\n",
      " [0. 0. 0. 0. 1. 0. 0. 0. 0. 0.]\n",
      " [0. 0. 0. 0. 1. 0. 0. 0. 0. 0.]\n",
      " [0. 0. 0. 0. 1. 0. 0. 0. 0. 0.]]\n"
     ]
    }
   ],
   "source": [
    "for point in unique_points:\n",
    "    map[point] = plot.count(point)\n",
    "print(map)"
   ]
  },
  {
   "cell_type": "code",
   "execution_count": null,
   "metadata": {},
   "outputs": [],
   "source": []
  }
 ],
 "metadata": {
  "interpreter": {
   "hash": "e7370f93d1d0cde622a1f8e1c04877d8463912d04d973331ad4851f04de6915a"
  },
  "kernelspec": {
   "display_name": "Python 3.10.1 64-bit",
   "language": "python",
   "name": "python3"
  },
  "language_info": {
   "codemirror_mode": {
    "name": "ipython",
    "version": 3
   },
   "file_extension": ".py",
   "mimetype": "text/x-python",
   "name": "python",
   "nbconvert_exporter": "python",
   "pygments_lexer": "ipython3",
   "version": "3.10.1"
  },
  "orig_nbformat": 4
 },
 "nbformat": 4,
 "nbformat_minor": 2
}
