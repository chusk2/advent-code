{
 "cells": [
  {
   "cell_type": "markdown",
   "metadata": {},
   "source": [
    "Get the data from txt file"
   ]
  },
  {
   "cell_type": "markdown",
   "metadata": {},
   "source": [
    "Extract the drawn numbers in the bingo game from text file"
   ]
  },
  {
   "cell_type": "code",
   "execution_count": 9,
   "metadata": {},
   "outputs": [
    {
     "name": "stdout",
     "output_type": "stream",
     "text": [
      "[26, 38, 2, 15, 36, 8, 12, 46, 88, 72, 32, 35, 64, 19, 5, 66, 20, 52, 74, 3, 59, 94, 45, 56, 0, 6, 67, 24, 97, 50, 92, 93, 84, 65, 71, 90, 96, 21, 87, 75, 58, 82, 14, 53, 95, 27, 49, 69, 16, 89, 37, 13, 1, 81, 60, 79, 51, 18, 48, 33, 42, 63, 39, 34, 62, 55, 47, 54, 23, 83, 77, 9, 70, 68, 85, 86, 91, 41, 4, 61, 78, 31, 22, 76, 40, 17, 30, 98, 44, 25, 80, 73, 11, 28, 7, 99, 29, 57, 43, 10]\n"
     ]
    }
   ],
   "source": [
    "with open('input_day4 - drawn number.txt', 'r') as file:\n",
    "    drawn_numbers = []\n",
    "    for line in file.readlines():\n",
    "        drawn_numbers += line.strip().split(',')\n",
    "drawn_numbers = [int(i) for i in drawn_numbers]\n",
    "print(drawn_numbers)"
   ]
  },
  {
   "cell_type": "markdown",
   "metadata": {},
   "source": [
    "Extract the bingo boards from text file"
   ]
  },
  {
   "cell_type": "code",
   "execution_count": 18,
   "metadata": {},
   "outputs": [],
   "source": [
    "# use numpy to deal with large amount of numbers\n",
    "import numpy as np\n",
    "\n",
    "with open('input_day4 - bingo boards.txt', 'r') as file:\n",
    "    bingo_boards = []\n",
    "    board = []\n",
    "    for line in file.readlines():\n",
    "        if line == '\\n':\n",
    "            board = np.array(board)\n",
    "            bingo_boards.append(board)\n",
    "            board = []\n",
    "        else:\n",
    "            row = line.strip().split()\n",
    "            row = [int(i) for i in row]\n",
    "            board.append(row)\n",
    "        \n",
    "#print(*bingo_boards[:4], sep='\\n'+'*'*10+'\\n')"
   ]
  },
  {
   "cell_type": "markdown",
   "metadata": {},
   "source": [
    "Some ideas for the resolution of the challenge:  \n",
    "\n",
    "1. Create a copy of the bingo_boards filled with boolean values \n",
    "2. Boolean array with True if number was withdrawn of False otherwise  \n",
    "3. Create a list with the index of a board with a valid number and how many valid numbers are within the board \n",
    "3. Check if there's a line only when board has a mininum of five crossed out numbers  \n",
    "4. Check if there's line using all bool method. Scan all rows and then all columns"
   ]
  }
 ],
 "metadata": {
  "interpreter": {
   "hash": "e7370f93d1d0cde622a1f8e1c04877d8463912d04d973331ad4851f04de6915a"
  },
  "kernelspec": {
   "display_name": "Python 3.10.2 64-bit",
   "language": "python",
   "name": "python3"
  },
  "language_info": {
   "codemirror_mode": {
    "name": "ipython",
    "version": 3
   },
   "file_extension": ".py",
   "mimetype": "text/x-python",
   "name": "python",
   "nbconvert_exporter": "python",
   "pygments_lexer": "ipython3",
   "version": "3.10.2"
  },
  "orig_nbformat": 4
 },
 "nbformat": 4,
 "nbformat_minor": 2
}
