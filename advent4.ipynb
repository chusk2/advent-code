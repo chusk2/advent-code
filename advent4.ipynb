{
 "cells": [
  {
   "cell_type": "markdown",
   "metadata": {},
   "source": [
    "Get the data from txt file"
   ]
  },
  {
   "cell_type": "markdown",
   "metadata": {},
   "source": [
    "Extract the drawn numbers in the bingo game from text file"
   ]
  },
  {
   "cell_type": "code",
   "execution_count": 333,
   "metadata": {},
   "outputs": [
    {
     "name": "stdout",
     "output_type": "stream",
     "text": [
      "[26, 38, 2, 15, 36, 8, 12, 46, 88, 72, 32, 35, 64, 19, 5, 66, 20, 52, 74, 3, 59, 94, 45, 56, 0, 6, 67, 24, 97, 50, 92, 93, 84, 65, 71, 90, 96, 21, 87, 75, 58, 82, 14, 53, 95, 27, 49, 69, 16, 89, 37, 13, 1, 81, 60, 79, 51, 18, 48, 33, 42, 63, 39, 34, 62, 55, 47, 54, 23, 83, 77, 9, 70, 68, 85, 86, 91, 41, 4, 61, 78, 31, 22, 76, 40, 17, 30, 98, 44, 25, 80, 73, 11, 28, 7, 99, 29, 57, 43, 10]\n"
     ]
    }
   ],
   "source": [
    "with open('input_day4 - drawn number.txt', 'r') as file:\n",
    "    drawn_numbers = []\n",
    "    for line in file.readlines():\n",
    "        drawn_numbers += line.strip().split(',')\n",
    "drawn_numbers = [int(i) for i in drawn_numbers]\n",
    "print(drawn_numbers)"
   ]
  },
  {
   "cell_type": "markdown",
   "metadata": {},
   "source": [
    "Extract the bingo boards from text file"
   ]
  },
  {
   "cell_type": "code",
   "execution_count": 334,
   "metadata": {},
   "outputs": [],
   "source": [
    "# use numpy to deal with large amount of numbers\n",
    "import numpy as np\n",
    "\n",
    "with open('input_day4 - bingo boards.txt', 'r') as file:\n",
    "    # in the text file, set last line to EOF\n",
    "    bingo_boards = []\n",
    "    board = []\n",
    "    for line in file.readlines():\n",
    "        # new blank line means there is a new board.\n",
    "        # In this case store the previous board\n",
    "        if line not in ['\\n','EOF']:\n",
    "            row = line.strip().split()\n",
    "            row = [int(i) for i in row]\n",
    "            board.append(row)\n",
    "        else: \n",
    "            board = np.array(board)\n",
    "            bingo_boards.append(board)\n",
    "            board = []"
   ]
  },
  {
   "cell_type": "code",
   "execution_count": 178,
   "metadata": {},
   "outputs": [
    {
     "name": "stdout",
     "output_type": "stream",
     "text": [
      "Board 43 has a line\n",
      "The withdrawn number is: 94\n",
      "The sum of the numbers not crossed out in the board  is 621\n",
      "The product of both numbers is:  58374\n"
     ]
    }
   ],
   "source": [
    "# Create lists filled with a boolean array (True if number has been drawn)\n",
    "# and a wins counter for each bingo board\n",
    "bool_boards = [\n",
    "    [np.full(25,False).reshape(5,5), 0] for i in range(len(bingo_boards))\n",
    "              ]\n",
    "\n",
    "def check_line(bool_board):\n",
    "    \"\"\"\n",
    "    Checks if all elements of a row or a column are True.\n",
    "    In that case, the board has completed a line\n",
    "    \"\"\"\n",
    "\n",
    "    # check line in rows\n",
    "    for i in range(5):\n",
    "        # check if all the elements of the row are True\n",
    "        if bool_board[i, :].all():\n",
    "            return True\n",
    "\n",
    "    # check if all the elements of the column are True\n",
    "    for j in range(5):\n",
    "        if bool_board[:, j].all():\n",
    "            return True\n",
    "\n",
    "\n",
    "check_numbers = True\n",
    "\n",
    "# check every drawn number against bingo boards\n",
    "index_number = 0\n",
    "index_board = 0\n",
    "\n",
    "while check_numbers:\n",
    "    \n",
    "    while True:\n",
    "        number = drawn_numbers[index_number]\n",
    "        board = bingo_boards[index_board]\n",
    "        boolean = bool_boards[index_board][0]\n",
    "        win_counter = bool_boards[index_board][1]\n",
    "        \n",
    "        # check if the drawn number is in the board\n",
    "        if number in board:\n",
    "            \n",
    "            # return the position of the drawn number in the bingo board\n",
    "            positions = np.where(board == number)\n",
    "            row = positions[0]\n",
    "            col = positions[1]\n",
    "            # replace with True at position of number match\n",
    "            # in the bingo board\n",
    "            boolean[row, col] = True\n",
    "            # +1 to board wins counter\n",
    "            # cannot update value of list item using += operator\n",
    "            bool_boards[index_board][1] = win_counter + 1\n",
    "            \n",
    "        # check for line because board has at least 5 wins\n",
    "        if win_counter >= 5:\n",
    "            \n",
    "            if check_line(boolean):\n",
    "                # sum all the values that are False\n",
    "                # they were not drawn check_numbers\n",
    "                # to negate use '~'\n",
    "                total = np.sum(board[~ boolean])\n",
    "                print(f'Board {index_board} has a line')\n",
    "                print(f'The withdrawn number is: {drawn_numbers[index_number]}')\n",
    "                print('The sum of the numbers not crossed out in the board',\n",
    "                      f' is {total}')\n",
    "                print(f'The product of both numbers is: ',\n",
    "                      f'{drawn_numbers[index_number] * total}')\n",
    "                check_numbers = False\n",
    "                break\n",
    "\n",
    "        # check next board\n",
    "        if index_board < len(bingo_boards) - 1:\n",
    "            index_board += 1\n",
    "        else:\n",
    "            break\n",
    "\n",
    "    # reset the index for boards to zero before checking all bool_boards\n",
    "    # with the new number\n",
    "    index_board = 0\n",
    "    # all boards were checked against drawn numbers\n",
    "    # try with next number\n",
    "    if index_number < len(drawn_numbers) - 1:\n",
    "        index_number += 1\n",
    "    else:\n",
    "        break"
   ]
  },
  {
   "cell_type": "markdown",
   "metadata": {},
   "source": [
    "Part two of Day 4"
   ]
  },
  {
   "cell_type": "code",
   "execution_count": 336,
   "metadata": {},
   "outputs": [],
   "source": [
    "def check_line(bool_board):\n",
    "    \"\"\"\n",
    "    Checks if all elements of a row or a column are True.\n",
    "    In that case, the board has completed a line\n",
    "    \"\"\"\n",
    "\n",
    "    # check line in rows\n",
    "    for i in range(5):\n",
    "        # check if all the elements of the row are True\n",
    "        if bool_board[i, :].all():\n",
    "            return True\n",
    "\n",
    "    # check if all the elements of the column are True\n",
    "    for j in range(5):\n",
    "        if bool_board[:, j].all():\n",
    "            return True"
   ]
  },
  {
   "cell_type": "code",
   "execution_count": 347,
   "metadata": {},
   "outputs": [
    {
     "name": "stdout",
     "output_type": "stream",
     "text": [
      "The last winning board is 16\n",
      "The number withdrawn was: 31\n",
      "The sum of the numbers not crossed out in the last winning board  is 367\n",
      "The product of both numbers is: 11377\n"
     ]
    }
   ],
   "source": [
    "# Create lists filled with a boolean array (True if number has been drawn)\n",
    "# and a wins counter for each bingo board\n",
    "bool_boards = [\n",
    "    [np.full(25,False).reshape(5,5), 0] for i in range(len(bingo_boards))\n",
    "              ]\n",
    "boards = bingo_boards.copy()\n",
    "\n",
    "# check every drawn number against bingo boards\n",
    "winning_boards = []\n",
    "combinations = []\n",
    "\n",
    "for number in drawn_numbers:\n",
    "    \n",
    "    for index, board in enumerate(boards):\n",
    "        # if board already has a line, skip it\n",
    "        if index in winning_boards:\n",
    "            continue\n",
    "        boolean = bool_boards[index][0]\n",
    "                \n",
    "        # check if the drawn number is in the board\n",
    "        if number in board:\n",
    "            # return the position of the drawn number in the bingo board\n",
    "            positions = np.where(board == number)\n",
    "            row = positions[0]\n",
    "            col = positions[1]\n",
    "            # replace with True at position of number match\n",
    "            # in the bingo board\n",
    "            boolean[row, col] = True\n",
    "            successes = np.where(boolean == True)\n",
    "            \n",
    "            if len(successes[0]) >= 5:\n",
    "                if check_line(boolean):\n",
    "                    winning_boards.append(index)\n",
    "                    combinations.append((index,number))\n",
    "                    \n",
    "last_index = winning_boards[-1]\n",
    "last_number = combinations[-1][1]\n",
    "last_bool = bool_boards[last_index][0]\n",
    "\n",
    "\n",
    "print(f'The last winning board is {last_index}')\n",
    "print(f'The number withdrawn was: {last_number}')\n",
    "print('The sum of the numbers not crossed out in the last winning board',\n",
    "        f' is {total}')\n",
    "print(f'The product of both numbers is: {last_number * total}')\n"
   ]
  }
 ],
 "metadata": {
  "interpreter": {
   "hash": "e7370f93d1d0cde622a1f8e1c04877d8463912d04d973331ad4851f04de6915a"
  },
  "kernelspec": {
   "display_name": "Python 3.10.2 64-bit",
   "language": "python",
   "name": "python3"
  },
  "language_info": {
   "codemirror_mode": {
    "name": "ipython",
    "version": 3
   },
   "file_extension": ".py",
   "mimetype": "text/x-python",
   "name": "python",
   "nbconvert_exporter": "python",
   "pygments_lexer": "ipython3",
   "version": "3.10.1"
  },
  "orig_nbformat": 4
 },
 "nbformat": 4,
 "nbformat_minor": 2
}
