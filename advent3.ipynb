{
 "cells": [
  {
   "cell_type": "markdown",
   "metadata": {},
   "source": [
    "[Day 3](https://adventofcode.com/2021/day/3)"
   ]
  },
  {
   "cell_type": "code",
   "execution_count": 2,
   "metadata": {},
   "outputs": [],
   "source": [
    "with open('input_day3.txt', 'r', encoding = 'utf-8') as file:\n",
    "    binary_numbers = []\n",
    "    for line in file.readlines():\n",
    "        binary_numbers.append(line.strip())"
   ]
  },
  {
   "cell_type": "code",
   "execution_count": 7,
   "metadata": {},
   "outputs": [
    {
     "name": "stdout",
     "output_type": "stream",
     "text": [
      "3878\n",
      "217\n",
      "841526\n"
     ]
    }
   ],
   "source": [
    "most_common = []\n",
    "least_common = []\n",
    "# repeat the counting for every digit in the binary number\n",
    "for digit in range(len(binary_numbers[0])):\n",
    "    ones = 0\n",
    "    zeros = 0\n",
    "    # classify every bit in index \"digit\" for every binary number\n",
    "    for num in binary_numbers:\n",
    "        if num[digit] == '1':\n",
    "            ones += 1\n",
    "        else:\n",
    "            zeros += 1\n",
    "    # after counting bit types, decide which was more common\n",
    "    if ones > zeros:\n",
    "        most_common.append('1')\n",
    "        least_common.append('0')\n",
    "    else:\n",
    "        most_common.append('0')\n",
    "        least_common.append('1')\n",
    "# create the epsilon and gamma numbers\n",
    "# int(number in binary form, base=2)\n",
    "epsilon = int(''.join(least_common), 2)\n",
    "gamma = int(''.join(most_common), 2)\n",
    "\n",
    "print(epsilon)\n",
    "print(gamma)\n",
    "print(epsilon*gamma)"
   ]
  },
  {
   "cell_type": "code",
   "execution_count": null,
   "metadata": {},
   "outputs": [],
   "source": []
  }
 ],
 "metadata": {
  "interpreter": {
   "hash": "e7370f93d1d0cde622a1f8e1c04877d8463912d04d973331ad4851f04de6915a"
  },
  "kernelspec": {
   "display_name": "Python 3.10.1 64-bit",
   "language": "python",
   "name": "python3"
  },
  "language_info": {
   "codemirror_mode": {
    "name": "ipython",
    "version": 3
   },
   "file_extension": ".py",
   "mimetype": "text/x-python",
   "name": "python",
   "nbconvert_exporter": "python",
   "pygments_lexer": "ipython3",
   "version": "3.10.1"
  },
  "orig_nbformat": 4
 },
 "nbformat": 4,
 "nbformat_minor": 2
}
