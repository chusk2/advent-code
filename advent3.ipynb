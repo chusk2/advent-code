{
 "cells": [
  {
   "cell_type": "markdown",
   "metadata": {},
   "source": [
    "[Day 3](https://adventofcode.com/2021/day/3)"
   ]
  },
  {
   "cell_type": "code",
   "execution_count": null,
   "metadata": {},
   "outputs": [
    {
     "ename": "",
     "evalue": "",
     "output_type": "error",
     "traceback": [
      "\u001b[1;31mFailed to start the Kernel. \n",
      "Failed to start the Kernel 'Python 3.10.1 64-bit'. \n",
      "View Jupyter <a href='command:jupyter.viewOutput'>log</a> for further details. spawn /bin/python ENOENT"
     ]
    }
   ],
   "source": [
    "with open('input_day3.txt', 'r', encoding = 'utf-8') as file:\n",
    "    binary_numbers = []\n",
    "    for line in file.readlines():\n",
    "        binary_numbers.append(line.strip())"
   ]
  },
  {
   "cell_type": "code",
   "execution_count": 7,
   "metadata": {},
   "outputs": [
    {
     "name": "stdout",
     "output_type": "stream",
     "text": [
      "3878\n",
      "217\n",
      "841526\n"
     ]
    }
   ],
   "source": [
    "most_common = []\n",
    "least_common = []\n",
    "# repeat the counting for every digit in the binary number\n",
    "for digit in range(len(binary_numbers[0])):\n",
    "    ones = 0\n",
    "    zeros = 0\n",
    "    # classify every bit in index \"digit\" for every binary number\n",
    "    for num in binary_numbers:\n",
    "        if num[digit] == '1':\n",
    "            ones += 1\n",
    "        else:\n",
    "            zeros += 1\n",
    "    # after counting bit types, decide which was more common\n",
    "    if ones > zeros:\n",
    "        most_common.append('1')\n",
    "        least_common.append('0')\n",
    "    else:\n",
    "        most_common.append('0')\n",
    "        least_common.append('1')\n",
    "# create the epsilon and gamma numbers\n",
    "# int(number in binary form, base=2)\n",
    "epsilon = int(''.join(least_common), 2)\n",
    "gamma = int(''.join(most_common), 2)\n",
    "\n",
    "print(epsilon)\n",
    "print(gamma)\n",
    "print(epsilon*gamma)"
   ]
  },
  {
   "cell_type": "markdown",
   "metadata": {},
   "source": [
    "Oxigen generator rating"
   ]
  },
  {
   "cell_type": "code",
   "execution_count": null,
   "metadata": {},
   "outputs": [],
   "source": [
    "def most_common(bits_list):\n",
    "    ones = 0\n",
    "    zeros = 0\n",
    "    for bit in bits_list:\n",
    "        if bit == '0':\n",
    "            zeros += 1\n",
    "        else:\n",
    "            ones += 1\n",
    "    if ones >= zeros:\n",
    "        return '1'\n",
    "    else:\n",
    "        return '0'\n",
    "\n",
    "data_oxigen = data.copy()\n",
    "num_length = len(data_oxigen[0])\n",
    "while len(data_oxigen) > 1:\n",
    "    for index in range(num_length):\n",
    "        bits = [i[index] for i in data_oxigen]\n",
    "        most_common_bit = most_common(bits)\n",
    "        data_oxygen = [i for i in data_oxygen if i[index]==most_common_bit]\n"
   ]
  }
 ],
 "metadata": {
  "interpreter": {
   "hash": "e7370f93d1d0cde622a1f8e1c04877d8463912d04d973331ad4851f04de6915a"
  },
  "kernelspec": {
   "display_name": "Python 3.10.1 64-bit",
   "language": "python",
   "name": "python3"
  },
  "language_info": {
   "codemirror_mode": {
    "name": "ipython",
    "version": 3
   },
   "file_extension": ".py",
   "mimetype": "text/x-python",
   "name": "python",
   "nbconvert_exporter": "python",
   "pygments_lexer": "ipython3",
   "version": "3.10.1"
  },
  "orig_nbformat": 4
 },
 "nbformat": 4,
 "nbformat_minor": 2
}
