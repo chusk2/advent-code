{
 "cells": [
  {
   "cell_type": "markdown",
   "metadata": {},
   "source": [
    "[Day 3](https://adventofcode.com/2021/day/3)"
   ]
  },
  {
   "cell_type": "code",
   "execution_count": 1,
   "metadata": {},
   "outputs": [],
   "source": [
    "with open('input_day3.txt', 'r', encoding = 'utf-8') as file:\n",
    "    binary_numbers = []\n",
    "    for line in file.readlines():\n",
    "        binary_numbers.append(line.strip())"
   ]
  },
  {
   "cell_type": "code",
   "execution_count": 2,
   "metadata": {},
   "outputs": [
    {
     "name": "stdout",
     "output_type": "stream",
     "text": [
      "3878\n",
      "217\n",
      "841526\n"
     ]
    }
   ],
   "source": [
    "most_common = []\n",
    "least_common = []\n",
    "# repeat the counting for every digit in the binary number\n",
    "for digit in range(len(binary_numbers[0])):\n",
    "    ones = 0\n",
    "    zeros = 0\n",
    "    # classify every bit in index \"digit\" for every binary number\n",
    "    for num in binary_numbers:\n",
    "        if num[digit] == '1':\n",
    "            ones += 1\n",
    "        else:\n",
    "            zeros += 1\n",
    "    # after counting bit types, decide which was more common\n",
    "    if ones > zeros:\n",
    "        most_common.append('1')\n",
    "        least_common.append('0')\n",
    "    else:\n",
    "        most_common.append('0')\n",
    "        least_common.append('1')\n",
    "# create the epsilon and gamma numbers\n",
    "# int(number in binary form, base=2)\n",
    "epsilon = int(''.join(least_common), 2)\n",
    "gamma = int(''.join(most_common), 2)\n",
    "\n",
    "print(epsilon)\n",
    "print(gamma)\n",
    "print(epsilon*gamma)"
   ]
  },
  {
   "cell_type": "markdown",
   "metadata": {},
   "source": [
    "Oxygen generator rating"
   ]
  },
  {
   "cell_type": "code",
   "execution_count": 13,
   "metadata": {},
   "outputs": [
    {
     "name": "stdout",
     "output_type": "stream",
     "text": [
      "1177\n"
     ]
    }
   ],
   "source": [
    "def most_common(bits_list):\n",
    "    ones = 0\n",
    "    zeros = 0\n",
    "    for bit in bits_list:\n",
    "        if bit == '0':\n",
    "            zeros += 1\n",
    "        else:\n",
    "            ones += 1\n",
    "    if ones >= zeros:\n",
    "        return '1'\n",
    "    else:\n",
    "        return '0'\n",
    "\n",
    "def least_common(bits_list):\n",
    "    ones = 0\n",
    "    zeros = 0\n",
    "    for bit in bits_list:\n",
    "        if bit == '0':\n",
    "            zeros += 1\n",
    "        else:\n",
    "            ones += 1\n",
    "    if ones <= zeros:\n",
    "        return '1'\n",
    "    else:\n",
    "        return '0'\n",
    "\n",
    "binary_oxygen = binary_numbers.copy()\n",
    "num_length = len(binary_oxygen[0])\n",
    "oxygen_found = False\n",
    "while not oxygen_found:\n",
    "    for index in range(num_length):\n",
    "        bits = [i[index] for i in binary_oxygen]\n",
    "        most_common_bit = most_common(bits)\n",
    "        binary_oxygen = [i for i in binary_oxygen if i[index]==most_common_bit]\n",
    "        if len(binary_oxygen) == 1:\n",
    "            oxygen_found = True\n",
    "            break\n",
    "oxygen_generator_rating = int(binary_oxygen[0],2)\n",
    "print(oxygen_generator_rating)\n"
   ]
  },
  {
   "cell_type": "markdown",
   "metadata": {},
   "source": [
    "CO2 scrubber rating"
   ]
  },
  {
   "cell_type": "code",
   "execution_count": 10,
   "metadata": {},
   "outputs": [],
   "source": [
    "def least_common(bits_list):\n",
    "    ones = 0\n",
    "    zeros = 0\n",
    "    for bit in bits_list:\n",
    "        if bit == '0':\n",
    "            zeros += 1\n",
    "        else:\n",
    "            ones += 1\n",
    "    if ones < zeros:\n",
    "        return '1'\n",
    "    else:\n",
    "        return '0'\n",
    "\n",
    "binary_CO2 = binary_numbers.copy()\n",
    "num_length = len(binary_CO2[0])\n",
    "CO2_found = False\n",
    "while not CO2_found:\n",
    "    for index in range(num_length):\n",
    "        bits = [i[index] for i in binary_CO2]\n",
    "        least_common_bit = least_common(bits)\n",
    "        binary_CO2 = [i for i in binary_CO2 if i[index]==least_common_bit]\n",
    "        if len(binary_CO2) == 1:\n",
    "            CO2_found = True\n",
    "            break\n",
    "CO2_scrubber_rating = int(binary_CO2[0],2)\n"
   ]
  },
  {
   "cell_type": "code",
   "execution_count": 11,
   "metadata": {},
   "outputs": [
    {
     "name": "stdout",
     "output_type": "stream",
     "text": [
      "4070\n"
     ]
    }
   ],
   "source": [
    "print(CO2_scrubber_rating)"
   ]
  },
  {
   "cell_type": "code",
   "execution_count": 16,
   "metadata": {},
   "outputs": [
    {
     "name": "stdout",
     "output_type": "stream",
     "text": [
      "The product of oxigen generator and CO2 scrubber ratings is: 4790390\n"
     ]
    }
   ],
   "source": [
    "print(f'The product of oxigen generator and CO2 scrubber ratings is: {oxygen_generator_rating*CO2_scrubber_rating}')"
   ]
  },
  {
   "cell_type": "code",
   "execution_count": null,
   "metadata": {},
   "outputs": [],
   "source": []
  }
 ],
 "metadata": {
  "interpreter": {
   "hash": "e7370f93d1d0cde622a1f8e1c04877d8463912d04d973331ad4851f04de6915a"
  },
  "kernelspec": {
   "display_name": "Python 3 (ipykernel)",
   "language": "python",
   "name": "python3"
  },
  "language_info": {
   "codemirror_mode": {
    "name": "ipython",
    "version": 3
   },
   "file_extension": ".py",
   "mimetype": "text/x-python",
   "name": "python",
   "nbconvert_exporter": "python",
   "pygments_lexer": "ipython3",
   "version": "3.10.2"
  }
 },
 "nbformat": 4,
 "nbformat_minor": 2
}
